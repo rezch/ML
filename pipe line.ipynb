{
 "cells": [
  {
   "cell_type": "markdown",
   "id": "7e66a513",
   "metadata": {},
   "source": [
    "# Заполнение пропущенных данных, с помощью обученной модели"
   ]
  },
  {
   "cell_type": "code",
   "execution_count": null,
   "id": "1b5637ae",
   "metadata": {},
   "outputs": [],
   "source": [
    "X = df[['age','gender','bmi']].copy()\n",
    "X.gender = X.gender.replace({'Male':0,'Female':1,'Other':-1}).astype(np.uint8)\n",
    "\n",
    "Missing = X[X.bmi.isna()]\n",
    "X = X[~X.bmi.isna()]\n",
    "Y = X.pop('bmi')\n",
    "\n",
    "DT_bmi_pipe = Pipeline( steps=[ \n",
    "                               ('scale',StandardScaler()),\n",
    "                               ('lr',DecisionTreeRegressor(random_state=42))\n",
    "                              ])\n",
    "DT_bmi_pipe.fit(X,Y)\n",
    "predicted_bmi = pd.Series(DT_bmi_pipe.predict(Missing[['age','gender']]),index=Missing.index)\n",
    "\n",
    "df.loc[Missing.index,'bmi'] = predicted_bmi"
   ]
  },
  {
   "cell_type": "markdown",
   "id": "6f960ada",
   "metadata": {},
   "source": [
    "### pipe version"
   ]
  },
  {
   "cell_type": "code",
   "execution_count": null,
   "id": "b27cde13",
   "metadata": {},
   "outputs": [],
   "source": [
    "class FillNa(BaseEstimator,TransformerMixin):   \n",
    "    \"\"\"\n",
    "    Класс заменяющий пропущенные значения, выбранных столбцов, при помощи обученной модели DecisionTreeRegressor\n",
    "    \"\"\"\n",
    "    def __init__(self, columns, fill_type):\n",
    "        self.columns = columns\n",
    "        self.fill_type = fill_type\n",
    "        self.pipes = {}\n",
    "    \n",
    "    \n",
    "    def fit(self, df, y=None):\n",
    "        if self.fill_type != 'model':\n",
    "            return self\n",
    "        \n",
    "        for fillcol in self.columns:\n",
    "            X = df.copy()\n",
    "            na = X[fillcol]\n",
    "            X = X.drop(self.columns, axis=1)\n",
    "            X[fillcol] = na\n",
    "\n",
    "            if na.isna().sum() != 0:\n",
    "                X = X[~X[fillcol].isna()]\n",
    "                Y = X.pop(fillcol)\n",
    "                pipe = Pipeline( steps=[\n",
    "                    ('scale',StandardScaler()),\n",
    "                    ('lr',DecisionTreeRegressor(random_state=42))\n",
    "                ])\n",
    "                pipe.fit(X,Y)\n",
    "                self.pipes[fillcol] = pipe\n",
    "        return self\n",
    "    \n",
    "    \n",
    "    def transform(self, df):\n",
    "        if self.fill_type == 'model':\n",
    "            for fillcol in self.pipes.keys():\n",
    "                X = df.copy()\n",
    "                na = X[fillcol]\n",
    "                X = X.drop(self.columns, axis=1)\n",
    "                full_cols = X.columns\n",
    "                X[fillcol] = na\n",
    "                \n",
    "                Missing = X[X[fillcol].isna()]\n",
    "                pred = pd.Series(\n",
    "                    self.pipes[fillcol].predict(Missing[full_cols]),index=Missing.index)\n",
    "                df.loc[Missing.index, fillcol] = pred\n",
    "        \n",
    "        if self.fill_type == 'mean':\n",
    "            for col in self.columns:\n",
    "                df[col] = df[col].fill_na(df[col].mean())\n",
    "                \n",
    "        if self.fill_type == 'median':\n",
    "            for col in self.columns:\n",
    "                df[col] = df[col].fill_na(df[col].median())\n",
    "            \n",
    "            \n",
    "        if self.fill_type == 'drop':\n",
    "            for col in self.columns:\n",
    "                df[col] = df[col].drop_na()\n",
    "            \n",
    "            \n",
    "        return df"
   ]
  },
  {
   "cell_type": "markdown",
   "id": "6e1658dc",
   "metadata": {},
   "source": [
    "# pipe encoder"
   ]
  },
  {
   "cell_type": "code",
   "execution_count": null,
   "id": "bd125d97",
   "metadata": {},
   "outputs": [],
   "source": [
    "class ColEncoder(BaseEstimator,TransformerMixin):\n",
    "    \"\"\"\n",
    "    Класс изменяющий значение, выбранных столбцов, при помощи LabelEncoder\n",
    "    \"\"\"\n",
    "    def init(self, columns):\n",
    "        self.columns = columns\n",
    "        self.encoders = {}\n",
    "\n",
    "\n",
    "    def fit(self, df, y=None):\n",
    "        for col in self.columns:\n",
    "            le = LabelEncoder()\n",
    "            le.fit(df[col])\n",
    "            self.encoders[col] = le\n",
    "        return self\n",
    "\n",
    "\n",
    "    def transform(self, df):\n",
    "        for col in self.columns:\n",
    "            df[col] = self.encoders[col].transform(df[col])\n",
    "        return df "
   ]
  }
 ],
 "metadata": {
  "kernelspec": {
   "display_name": "Python 3 (ipykernel)",
   "language": "python",
   "name": "python3"
  },
  "language_info": {
   "codemirror_mode": {
    "name": "ipython",
    "version": 3
   },
   "file_extension": ".py",
   "mimetype": "text/x-python",
   "name": "python",
   "nbconvert_exporter": "python",
   "pygments_lexer": "ipython3",
   "version": "3.9.6"
  }
 },
 "nbformat": 4,
 "nbformat_minor": 5
}
