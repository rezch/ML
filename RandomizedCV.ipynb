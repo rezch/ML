{
 "cells": [
  {
   "cell_type": "code",
   "execution_count": 1,
   "id": "3d974d88",
   "metadata": {},
   "outputs": [],
   "source": [
    "from sklearn.model_selection import RandomizedSearchCV"
   ]
  },
  {
   "cell_type": "code",
   "execution_count": 2,
   "id": "4daca89a",
   "metadata": {},
   "outputs": [],
   "source": [
    "n_estimators = [i for i in range(100, 1001, 100)] \n",
    "max_features = ['log2', 'sqrt'] \n",
    "max_depth = [i for i in range(1, 16)] \n",
    "min_samples_split = [i for i in range(2, 51, 5)] \n",
    "min_samples_leaf = [i for i in range(2, 51, 5)] \n",
    "bootstrap = [True, False]"
   ]
  },
  {
   "cell_type": "code",
   "execution_count": 3,
   "id": "8afb1f76",
   "metadata": {},
   "outputs": [],
   "source": [
    "param_dist = {'n estimators': n_estimators,\n",
    "              'max_features': max_features, \n",
    "              'max_depth': max_depth,\n",
    "              'min_samples_split': min_samples_split, \n",
    "              'min samples leaf': min_samples_leaf, \n",
    "              'bootstrap': bootstrap}"
   ]
  },
  {
   "cell_type": "code",
   "execution_count": null,
   "id": "e91b70bf",
   "metadata": {},
   "outputs": [],
   "source": [
    "RF = PipeLine(steps=[\n",
    "    ('scaler', StandartScaler()), (\"RF\", RandomForestClassifier())\n",
    "    ])"
   ]
  },
  {
   "cell_type": "code",
   "execution_count": null,
   "id": "019eae1b",
   "metadata": {},
   "outputs": [],
   "source": [
    "rs = RandomizedSearchCV(\n",
    "    RF['RF'],\n",
    "    param_dist, \n",
    "    n_iter = 100,\n",
    "    cv = 3, \n",
    "    scoring='f1',\n",
    "    verbose = 1,\n",
    "    random_state=0)"
   ]
  }
 ],
 "metadata": {
  "kernelspec": {
   "display_name": "Python 3 (ipykernel)",
   "language": "python",
   "name": "python3"
  },
  "language_info": {
   "codemirror_mode": {
    "name": "ipython",
    "version": 3
   },
   "file_extension": ".py",
   "mimetype": "text/x-python",
   "name": "python",
   "nbconvert_exporter": "python",
   "pygments_lexer": "ipython3",
   "version": "3.9.6"
  }
 },
 "nbformat": 4,
 "nbformat_minor": 5
}
