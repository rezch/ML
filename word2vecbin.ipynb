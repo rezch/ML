{
 "cells": [
  {
   "cell_type": "code",
   "execution_count": 1,
   "id": "75951395",
   "metadata": {},
   "outputs": [],
   "source": [
    "data = [\n",
    "    {\n",
    "        'passport_div_code': 422008,\n",
    "        'passport_issuer_name': 'БЕЛОВСКИМ УВД КЕМЕРОВСКОЙ ОБЛАСТИ',\n",
    "    }, \n",
    "    {\n",
    "        'passport_div_code': 500112,\n",
    "        'passport_issuer_name': 'ТП №2 В ГОР. ОРЕХОВО-ЗУЕВО ОУФМС РОССИИ ПО МО',\n",
    "    }, \n",
    "    {\n",
    "        'passport_div_code': 642001,\n",
    "        'passport_issuer_name': 'ВОЛЖСКИМ РОВД ГОР.САРАТОВА',\n",
    "    }, \n",
    "    {\n",
    "        'passport_div_code': 162004,\n",
    "        'passport_issuer_name': 'УВД МОСКОВСКОГО РАЙОНА Г.КАЗАНЬ',\n",
    "    }, \n",
    "    {\n",
    "        'passport_div_code': 80001,\n",
    "        'passport_issuer_name': 'ОТДЕЛОМ ОФМС РОССИИ ПО РЕСП КАЛМЫКИЯ В Г ЭЛИСТА',\n",
    "    }\n",
    "]"
   ]
  },
  {
   "cell_type": "code",
   "execution_count": 2,
   "id": "dddc3518",
   "metadata": {},
   "outputs": [],
   "source": [
    "import pandas as pd"
   ]
  },
  {
   "cell_type": "code",
   "execution_count": 3,
   "id": "0534c409",
   "metadata": {},
   "outputs": [],
   "source": [
    "train = pd.DataFrame(data)"
   ]
  },
  {
   "cell_type": "code",
   "execution_count": 4,
   "id": "01dc7e1c",
   "metadata": {},
   "outputs": [],
   "source": [
    "train.passport_issuer_name = train.passport_issuer_name.str.lower()"
   ]
  },
  {
   "cell_type": "code",
   "execution_count": 5,
   "id": "b08a51e4",
   "metadata": {},
   "outputs": [
    {
     "name": "stderr",
     "output_type": "stream",
     "text": [
      "C:\\Users\\Daniil\\AppData\\Local\\Temp/ipykernel_19740/4068230019.py:1: FutureWarning: The default value of regex will change from True to False in a future version.\n",
      "  train.passport_issuer_name = train.passport_issuer_name.str.replace(u'р-(а|й|о|н|е)*',u'район')\n",
      "C:\\Users\\Daniil\\AppData\\Local\\Temp/ipykernel_19740/4068230019.py:2: FutureWarning: The default value of regex will change from True to False in a future version.\n",
      "  train.passport_issuer_name = train.passport_issuer_name.str.replace(u' г( |\\.|(ор(\\.| )))', u' город ')\n",
      "C:\\Users\\Daniil\\AppData\\Local\\Temp/ipykernel_19740/4068230019.py:3: FutureWarning: The default value of regex will change from True to False in a future version.\n",
      "  train.passport_issuer_name = train.passport_issuer_name.str.replace(u' р(\\.|есп )', u' республика ')\n",
      "C:\\Users\\Daniil\\AppData\\Local\\Temp/ipykernel_19740/4068230019.py:4: FutureWarning: The default value of regex will change from True to False in a future version.\n",
      "  train.passport_issuer_name = train.passport_issuer_name.str.replace(u' адм([а-я]*)(\\.)?', u' административный ')\n",
      "C:\\Users\\Daniil\\AppData\\Local\\Temp/ipykernel_19740/4068230019.py:5: FutureWarning: The default value of regex will change from True to False in a future version.\n",
      "  train.passport_issuer_name = train.passport_issuer_name.str.replace(u' окр(\\.| |уга( )?)', u' округ ')\n"
     ]
    }
   ],
   "source": [
    "train.passport_issuer_name = train.passport_issuer_name.str.replace(u'р-(а|й|о|н|е)*',u'район')\n",
    "train.passport_issuer_name = train.passport_issuer_name.str.replace(u' г( |\\.|(ор(\\.| )))', u' город ')\n",
    "train.passport_issuer_name = train.passport_issuer_name.str.replace(u' р(\\.|есп )', u' республика ')\n",
    "train.passport_issuer_name = train.passport_issuer_name.str.replace(u' адм([а-я]*)(\\.)?', u' административный ')\n",
    "train.passport_issuer_name = train.passport_issuer_name.str.replace(u' окр(\\.| |уга( )?)', u' округ ')\n",
    "train.passport_issuer_name = train.passport_issuer_name.str.replace(u' ао ', u' административный округ ')"
   ]
  },
  {
   "cell_type": "code",
   "execution_count": 6,
   "id": "12e8628c",
   "metadata": {},
   "outputs": [
    {
     "name": "stderr",
     "output_type": "stream",
     "text": [
      "C:\\Users\\Daniil\\AppData\\Local\\Temp/ipykernel_19740/899739293.py:1: FutureWarning: The default value of regex will change from True to False in a future version.\n",
      "  train.passport_issuer_name = train.passport_issuer_name.str.replace(u' - ?', u'-')\n",
      "C:\\Users\\Daniil\\AppData\\Local\\Temp/ipykernel_19740/899739293.py:2: FutureWarning: The default value of regex will change from True to False in a future version.\n",
      "  train.passport_issuer_name = train.passport_issuer_name.str.replace(u'[^а-я -]','')\n",
      "C:\\Users\\Daniil\\AppData\\Local\\Temp/ipykernel_19740/899739293.py:4: FutureWarning: The default value of regex will change from True to False in a future version.\n",
      "  train.passport_issuer_name = train.passport_issuer_name.str.replace(u'  *',' ')\n"
     ]
    }
   ],
   "source": [
    "train.passport_issuer_name = train.passport_issuer_name.str.replace(u' - ?', u'-')\n",
    "train.passport_issuer_name = train.passport_issuer_name.str.replace(u'[^а-я -]','')\n",
    "train.passport_issuer_name = train.passport_issuer_name.str.replace(u'- ',' ')\n",
    "train.passport_issuer_name = train.passport_issuer_name.str.replace(u'  *',' ')"
   ]
  },
  {
   "cell_type": "code",
   "execution_count": 7,
   "id": "790ee501",
   "metadata": {},
   "outputs": [
    {
     "data": {
      "text/html": [
       "<div>\n",
       "<style scoped>\n",
       "    .dataframe tbody tr th:only-of-type {\n",
       "        vertical-align: middle;\n",
       "    }\n",
       "\n",
       "    .dataframe tbody tr th {\n",
       "        vertical-align: top;\n",
       "    }\n",
       "\n",
       "    .dataframe thead th {\n",
       "        text-align: right;\n",
       "    }\n",
       "</style>\n",
       "<table border=\"1\" class=\"dataframe\">\n",
       "  <thead>\n",
       "    <tr style=\"text-align: right;\">\n",
       "      <th></th>\n",
       "      <th>passport_div_code</th>\n",
       "      <th>passport_issuer_name</th>\n",
       "    </tr>\n",
       "  </thead>\n",
       "  <tbody>\n",
       "    <tr>\n",
       "      <th>0</th>\n",
       "      <td>422008</td>\n",
       "      <td>беловским увд кемеровской области</td>\n",
       "    </tr>\n",
       "    <tr>\n",
       "      <th>1</th>\n",
       "      <td>500112</td>\n",
       "      <td>тп в город орехово-зуево оуфмс россии по мо</td>\n",
       "    </tr>\n",
       "    <tr>\n",
       "      <th>2</th>\n",
       "      <td>642001</td>\n",
       "      <td>волжским ровд город саратова</td>\n",
       "    </tr>\n",
       "    <tr>\n",
       "      <th>3</th>\n",
       "      <td>162004</td>\n",
       "      <td>увд московского района город казань</td>\n",
       "    </tr>\n",
       "    <tr>\n",
       "      <th>4</th>\n",
       "      <td>80001</td>\n",
       "      <td>отделом офмс россии по республика калмыкия в г...</td>\n",
       "    </tr>\n",
       "  </tbody>\n",
       "</table>\n",
       "</div>"
      ],
      "text/plain": [
       "   passport_div_code                               passport_issuer_name\n",
       "0             422008                  беловским увд кемеровской области\n",
       "1             500112        тп в город орехово-зуево оуфмс россии по мо\n",
       "2             642001                       волжским ровд город саратова\n",
       "3             162004                увд московского района город казань\n",
       "4              80001  отделом офмс россии по республика калмыкия в г..."
      ]
     },
     "execution_count": 7,
     "metadata": {},
     "output_type": "execute_result"
    }
   ],
   "source": [
    "train"
   ]
  },
  {
   "cell_type": "code",
   "execution_count": 9,
   "id": "57a3bde4",
   "metadata": {},
   "outputs": [],
   "source": [
    "df = train.copy()"
   ]
  },
  {
   "cell_type": "code",
   "execution_count": 14,
   "id": "a548d313",
   "metadata": {
    "scrolled": true
   },
   "outputs": [
    {
     "data": {
      "text/html": [
       "<div>\n",
       "<style scoped>\n",
       "    .dataframe tbody tr th:only-of-type {\n",
       "        vertical-align: middle;\n",
       "    }\n",
       "\n",
       "    .dataframe tbody tr th {\n",
       "        vertical-align: top;\n",
       "    }\n",
       "\n",
       "    .dataframe thead th {\n",
       "        text-align: right;\n",
       "    }\n",
       "</style>\n",
       "<table border=\"1\" class=\"dataframe\">\n",
       "  <thead>\n",
       "    <tr style=\"text-align: right;\">\n",
       "      <th></th>\n",
       "      <th>passport_div_code</th>\n",
       "      <th>passport_issuer_name</th>\n",
       "    </tr>\n",
       "  </thead>\n",
       "  <tbody>\n",
       "    <tr>\n",
       "      <th>0</th>\n",
       "      <td>422008</td>\n",
       "      <td>беловским увд кемеровской области</td>\n",
       "    </tr>\n",
       "    <tr>\n",
       "      <th>1</th>\n",
       "      <td>500112</td>\n",
       "      <td>тп в город орехово-зуево оуфмс россии по мо</td>\n",
       "    </tr>\n",
       "    <tr>\n",
       "      <th>2</th>\n",
       "      <td>642001</td>\n",
       "      <td>волжским ровд город саратова</td>\n",
       "    </tr>\n",
       "    <tr>\n",
       "      <th>3</th>\n",
       "      <td>162004</td>\n",
       "      <td>увд московского района город казань</td>\n",
       "    </tr>\n",
       "    <tr>\n",
       "      <th>4</th>\n",
       "      <td>80001</td>\n",
       "      <td>отделом офмс россии по республика калмыкия в г...</td>\n",
       "    </tr>\n",
       "  </tbody>\n",
       "</table>\n",
       "</div>"
      ],
      "text/plain": [
       "   passport_div_code                               passport_issuer_name\n",
       "0             422008                  беловским увд кемеровской области\n",
       "1             500112        тп в город орехово-зуево оуфмс россии по мо\n",
       "2             642001                       волжским ровд город саратова\n",
       "3             162004                увд московского района город казань\n",
       "4              80001  отделом офмс россии по республика калмыкия в г..."
      ]
     },
     "execution_count": 14,
     "metadata": {},
     "output_type": "execute_result"
    }
   ],
   "source": [
    "df"
   ]
  },
  {
   "cell_type": "code",
   "execution_count": 15,
   "id": "5086f890",
   "metadata": {},
   "outputs": [],
   "source": [
    "import texthero as hero\n",
    "from texthero import preprocessing\n",
    "custom_pipeline = [preprocessing.fillna,\n",
    "                   #preprocessing.lowercase,\n",
    "                   preprocessing.remove_whitespace,\n",
    "                   preprocessing.remove_diacritics\n",
    "                   #preprocessing.remove_brackets\n",
    "                  ]\n",
    "df['clean_text'] = hero.clean(df['passport_issuer_name'], custom_pipeline)\n",
    "df['clean_text'] = [n.replace('{','') for n in df['clean_text']]\n",
    "df['clean_text'] = [n.replace('}','') for n in df['clean_text']]\n",
    "df['clean_text'] = [n.replace('(','') for n in df['clean_text']]\n",
    "df['clean_text'] = [n.replace(')','') for n in df['clean_text']]"
   ]
  },
  {
   "cell_type": "code",
   "execution_count": 16,
   "id": "5bf533ea",
   "metadata": {},
   "outputs": [
    {
     "data": {
      "text/html": [
       "<div>\n",
       "<style scoped>\n",
       "    .dataframe tbody tr th:only-of-type {\n",
       "        vertical-align: middle;\n",
       "    }\n",
       "\n",
       "    .dataframe tbody tr th {\n",
       "        vertical-align: top;\n",
       "    }\n",
       "\n",
       "    .dataframe thead th {\n",
       "        text-align: right;\n",
       "    }\n",
       "</style>\n",
       "<table border=\"1\" class=\"dataframe\">\n",
       "  <thead>\n",
       "    <tr style=\"text-align: right;\">\n",
       "      <th></th>\n",
       "      <th>passport_div_code</th>\n",
       "      <th>passport_issuer_name</th>\n",
       "      <th>clean_text</th>\n",
       "    </tr>\n",
       "  </thead>\n",
       "  <tbody>\n",
       "    <tr>\n",
       "      <th>0</th>\n",
       "      <td>422008</td>\n",
       "      <td>беловским увд кемеровской области</td>\n",
       "      <td>belovskim uvd kemerovskoi oblasti</td>\n",
       "    </tr>\n",
       "    <tr>\n",
       "      <th>1</th>\n",
       "      <td>500112</td>\n",
       "      <td>тп в город орехово-зуево оуфмс россии по мо</td>\n",
       "      <td>tp v gorod orekhovo-zuevo oufms rossii po mo</td>\n",
       "    </tr>\n",
       "    <tr>\n",
       "      <th>2</th>\n",
       "      <td>642001</td>\n",
       "      <td>волжским ровд город саратова</td>\n",
       "      <td>volzhskim rovd gorod saratova</td>\n",
       "    </tr>\n",
       "    <tr>\n",
       "      <th>3</th>\n",
       "      <td>162004</td>\n",
       "      <td>увд московского района город казань</td>\n",
       "      <td>uvd moskovskogo raiona gorod kazan'</td>\n",
       "    </tr>\n",
       "    <tr>\n",
       "      <th>4</th>\n",
       "      <td>80001</td>\n",
       "      <td>отделом офмс россии по республика калмыкия в г...</td>\n",
       "      <td>otdelom ofms rossii po respublika kalmykiia v ...</td>\n",
       "    </tr>\n",
       "  </tbody>\n",
       "</table>\n",
       "</div>"
      ],
      "text/plain": [
       "   passport_div_code                               passport_issuer_name  \\\n",
       "0             422008                  беловским увд кемеровской области   \n",
       "1             500112        тп в город орехово-зуево оуфмс россии по мо   \n",
       "2             642001                       волжским ровд город саратова   \n",
       "3             162004                увд московского района город казань   \n",
       "4              80001  отделом офмс россии по республика калмыкия в г...   \n",
       "\n",
       "                                          clean_text  \n",
       "0                  belovskim uvd kemerovskoi oblasti  \n",
       "1       tp v gorod orekhovo-zuevo oufms rossii po mo  \n",
       "2                      volzhskim rovd gorod saratova  \n",
       "3                uvd moskovskogo raiona gorod kazan'  \n",
       "4  otdelom ofms rossii po respublika kalmykiia v ...  "
      ]
     },
     "execution_count": 16,
     "metadata": {},
     "output_type": "execute_result"
    }
   ],
   "source": [
    "df"
   ]
  },
  {
   "cell_type": "code",
   "execution_count": 21,
   "id": "8c0a9133",
   "metadata": {},
   "outputs": [
    {
     "data": {
      "text/plain": [
       "[TaggedDocument(words=['belovskim', 'uvd', 'kemerovskoi', 'oblasti'], tags=[0]),\n",
       " TaggedDocument(words=['tp', 'v', 'gorod', 'orekhovo-zuevo', 'oufms', 'rossii', 'po', 'mo'], tags=[1]),\n",
       " TaggedDocument(words=['volzhskim', 'rovd', 'gorod', 'saratova'], tags=[2]),\n",
       " TaggedDocument(words=['uvd', 'moskovskogo', 'raiona', 'gorod', \"kazan'\"], tags=[3]),\n",
       " TaggedDocument(words=['otdelom', 'ofms', 'rossii', 'po', 'respublika', 'kalmykiia', 'v', 'gorod', 'elista'], tags=[4])]"
      ]
     },
     "execution_count": 21,
     "metadata": {},
     "output_type": "execute_result"
    }
   ],
   "source": [
    "from gensim.models.doc2vec import Doc2Vec, TaggedDocument\n",
    "\n",
    "card_docs = [TaggedDocument(doc.split(' '), [i]) \n",
    "             for i, doc in enumerate(df.clean_text)]\n",
    "\n",
    "card_docs"
   ]
  },
  {
   "cell_type": "code",
   "execution_count": 23,
   "id": "5af5b295",
   "metadata": {},
   "outputs": [],
   "source": [
    "model = Doc2Vec(vector_size=16, min_count=1, epochs = 20)"
   ]
  },
  {
   "cell_type": "code",
   "execution_count": 24,
   "id": "4b18799e",
   "metadata": {},
   "outputs": [],
   "source": [
    "model = Doc2Vec(vector_size=16, window=2, min_count=1, workers=8, epochs=20)\n",
    "\n",
    "model.build_vocab(card_docs)\n",
    "\n",
    "model.train(card_docs, total_examples=model.corpus_count\n",
    "            , epochs=model.epochs)"
   ]
  },
  {
   "cell_type": "code",
   "execution_count": 25,
   "id": "0e0d5e34",
   "metadata": {},
   "outputs": [],
   "source": [
    "card2vec = [model.infer_vector((df['clean_text'][i].split(' '))) \n",
    "            for i in range(0,len(df['clean_text']))]"
   ]
  },
  {
   "cell_type": "code",
   "execution_count": 27,
   "id": "fda3a279",
   "metadata": {},
   "outputs": [],
   "source": [
    "import numpy as np\n",
    "\n",
    "dtv= np.array(card2vec).tolist()\n",
    "\n",
    "df['card2vec'] = dtv"
   ]
  },
  {
   "cell_type": "code",
   "execution_count": 28,
   "id": "b1242e33",
   "metadata": {},
   "outputs": [],
   "source": [
    "df['tsnec2v'] = hero.tsne(df['card2vec'])"
   ]
  },
  {
   "cell_type": "code",
   "execution_count": 29,
   "id": "4614e5d2",
   "metadata": {},
   "outputs": [
    {
     "data": {
      "text/html": [
       "<div>\n",
       "<style scoped>\n",
       "    .dataframe tbody tr th:only-of-type {\n",
       "        vertical-align: middle;\n",
       "    }\n",
       "\n",
       "    .dataframe tbody tr th {\n",
       "        vertical-align: top;\n",
       "    }\n",
       "\n",
       "    .dataframe thead th {\n",
       "        text-align: right;\n",
       "    }\n",
       "</style>\n",
       "<table border=\"1\" class=\"dataframe\">\n",
       "  <thead>\n",
       "    <tr style=\"text-align: right;\">\n",
       "      <th></th>\n",
       "      <th>passport_div_code</th>\n",
       "      <th>passport_issuer_name</th>\n",
       "      <th>clean_text</th>\n",
       "      <th>card2vec</th>\n",
       "      <th>tsnec2v</th>\n",
       "    </tr>\n",
       "  </thead>\n",
       "  <tbody>\n",
       "    <tr>\n",
       "      <th>0</th>\n",
       "      <td>422008</td>\n",
       "      <td>беловским увд кемеровской области</td>\n",
       "      <td>belovskim uvd kemerovskoi oblasti</td>\n",
       "      <td>[-0.018718330189585686, -0.005538497120141983,...</td>\n",
       "      <td>[-224.20648193359375, 22.09152603149414]</td>\n",
       "    </tr>\n",
       "    <tr>\n",
       "      <th>1</th>\n",
       "      <td>500112</td>\n",
       "      <td>тп в город орехово-зуево оуфмс россии по мо</td>\n",
       "      <td>tp v gorod orekhovo-zuevo oufms rossii po mo</td>\n",
       "      <td>[0.014958590269088745, -0.005290632601827383, ...</td>\n",
       "      <td>[341.5960693359375, 249.90988159179688]</td>\n",
       "    </tr>\n",
       "    <tr>\n",
       "      <th>2</th>\n",
       "      <td>642001</td>\n",
       "      <td>волжским ровд город саратова</td>\n",
       "      <td>volzhskim rovd gorod saratova</td>\n",
       "      <td>[-0.030248921364545822, -0.02887367084622383, ...</td>\n",
       "      <td>[319.6063232421875, -82.45893859863281]</td>\n",
       "    </tr>\n",
       "    <tr>\n",
       "      <th>3</th>\n",
       "      <td>162004</td>\n",
       "      <td>увд московского района город казань</td>\n",
       "      <td>uvd moskovskogo raiona gorod kazan'</td>\n",
       "      <td>[-0.004950718954205513, -0.021067308261990547,...</td>\n",
       "      <td>[20.118270874023438, 231.78504943847656]</td>\n",
       "    </tr>\n",
       "    <tr>\n",
       "      <th>4</th>\n",
       "      <td>80001</td>\n",
       "      <td>отделом офмс россии по республика калмыкия в г...</td>\n",
       "      <td>otdelom ofms rossii po respublika kalmykiia v ...</td>\n",
       "      <td>[-0.017142238095402718, 0.021305445581674576, ...</td>\n",
       "      <td>[21.82888412475586, -202.46124267578125]</td>\n",
       "    </tr>\n",
       "  </tbody>\n",
       "</table>\n",
       "</div>"
      ],
      "text/plain": [
       "   passport_div_code                               passport_issuer_name  \\\n",
       "0             422008                  беловским увд кемеровской области   \n",
       "1             500112        тп в город орехово-зуево оуфмс россии по мо   \n",
       "2             642001                       волжским ровд город саратова   \n",
       "3             162004                увд московского района город казань   \n",
       "4              80001  отделом офмс россии по республика калмыкия в г...   \n",
       "\n",
       "                                          clean_text  \\\n",
       "0                  belovskim uvd kemerovskoi oblasti   \n",
       "1       tp v gorod orekhovo-zuevo oufms rossii po mo   \n",
       "2                      volzhskim rovd gorod saratova   \n",
       "3                uvd moskovskogo raiona gorod kazan'   \n",
       "4  otdelom ofms rossii po respublika kalmykiia v ...   \n",
       "\n",
       "                                            card2vec  \\\n",
       "0  [-0.018718330189585686, -0.005538497120141983,...   \n",
       "1  [0.014958590269088745, -0.005290632601827383, ...   \n",
       "2  [-0.030248921364545822, -0.02887367084622383, ...   \n",
       "3  [-0.004950718954205513, -0.021067308261990547,...   \n",
       "4  [-0.017142238095402718, 0.021305445581674576, ...   \n",
       "\n",
       "                                    tsnec2v  \n",
       "0  [-224.20648193359375, 22.09152603149414]  \n",
       "1   [341.5960693359375, 249.90988159179688]  \n",
       "2   [319.6063232421875, -82.45893859863281]  \n",
       "3  [20.118270874023438, 231.78504943847656]  \n",
       "4  [21.82888412475586, -202.46124267578125]  "
      ]
     },
     "execution_count": 29,
     "metadata": {},
     "output_type": "execute_result"
    }
   ],
   "source": [
    "df"
   ]
  },
  {
   "cell_type": "code",
   "execution_count": null,
   "id": "19737fe0",
   "metadata": {},
   "outputs": [],
   "source": []
  }
 ],
 "metadata": {
  "kernelspec": {
   "display_name": "Python 3 (ipykernel)",
   "language": "python",
   "name": "python3"
  },
  "language_info": {
   "codemirror_mode": {
    "name": "ipython",
    "version": 3
   },
   "file_extension": ".py",
   "mimetype": "text/x-python",
   "name": "python",
   "nbconvert_exporter": "python",
   "pygments_lexer": "ipython3",
   "version": "3.9.6"
  }
 },
 "nbformat": 4,
 "nbformat_minor": 5
}
